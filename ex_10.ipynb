{
  "nbformat": 4,
  "nbformat_minor": 0,
  "metadata": {
    "colab": {
      "provenance": [],
      "include_colab_link": true
    },
    "kernelspec": {
      "name": "python3",
      "display_name": "Python 3"
    },
    "language_info": {
      "name": "python"
    }
  },
  "cells": [
    {
      "cell_type": "markdown",
      "metadata": {
        "id": "view-in-github",
        "colab_type": "text"
      },
      "source": [
        "<a href=\"https://colab.research.google.com/github/23MH5A4204/class/blob/main/ex_10.ipynb\" target=\"_parent\"><img src=\"https://colab.research.google.com/assets/colab-badge.svg\" alt=\"Open In Colab\"/></a>"
      ]
    },
    {
      "cell_type": "code",
      "source": [
        "pip install numpy\n"
      ],
      "metadata": {
        "colab": {
          "base_uri": "https://localhost:8080/"
        },
        "id": "ZStCntWiZN1a",
        "outputId": "07482b83-b593-4abb-d729-db01210be6c6"
      },
      "execution_count": null,
      "outputs": [
        {
          "output_type": "stream",
          "name": "stdout",
          "text": [
            "Requirement already satisfied: numpy in /usr/local/lib/python3.10/dist-packages (1.25.2)\n"
          ]
        }
      ]
    },
    {
      "cell_type": "code",
      "source": [
        "# Import necessary libraries\n",
        "import matplotlib.pyplot as plt\n",
        "import numpy as np\n",
        "from sklearn.cluster import DBSCAN\n",
        "from sklearn.datasets import make_blobs\n",
        "# Generate synthetic data using make_blobs\n",
        "X, y_true = make_blobs(n_samples=300, cluster_std=0.50)\n",
        "# Instantiate DBSCAN with epsilon=0.3 and min_samples=10\n",
        "db = DBSCAN(eps=0.3, min_samples=10)\n",
        "# Fit DBSCAN to the data\n",
        "db = db.fit(X)\n",
        "# Create a boolean mask to identify core samples\n",
        "core_samples_mask = np.zeros_like(db.labels_, dtype=bool)\n",
        "core_samples_mask[db.core_sample_indices_] = True\n",
        "# Retrieve the labels assigned to each data point\n",
        "labels = db.labels_\n",
        "# Count the number of clusters (excluding noise points)\n",
        "n_clusters_ = len(set(labels)) - (1 if -1 in labels else 0)\n",
        "# Print the number of clusters and the cluster labels\n",
        "print(\"Number of clusters:\", n_clusters_)\n",
        "print(\"Cluster labels:\", labels)\n",
        "# Set of unique labels assigned by DBSCAN\n",
        "unique_labels = set(labels)\n",
        "# Define colors for each cluster\n",
        "colors = ['r', 'b', 'g', 'y']\n",
        "# Print the list of colors\n",
        "print(colors)\n",
        "# Iterate over each unique label and corresponding color\n",
        "for k, col in zip(unique_labels, colors):\n",
        "  if k == -1:\n",
        "    # Assign black color to noise points\n",
        "    col = 'k'\n",
        "# Create a boolean mask to identify points belonging to the current cluster\n",
        "class_member_mask = (labels == k)\n",
        "# Plot core points of the current cluster\n",
        "xy = X[class_member_mask & core_samples_mask]\n",
        "plt.plot(xy[:, 0], xy[:, 1], 'o', markerfacecolor=col, markeredgecolor='k', markersize=6)\n",
        "# Plot non-core points of the current cluster\n",
        "xy = X[class_member_mask & ~core_samples_mask]\n",
        "plt.plot(xy[:, 0], xy[:, 1], 'o', markerfacecolor=col, markeredgecolor='k', markersize=6)\n",
        "# Set the title of the plot to display the number of clusters\n",
        "plt.title('Number of Clusters: %d' % n_clusters_)\n",
        "# Display the plot\n",
        "plt.show()\n"
      ],
      "metadata": {
        "colab": {
          "base_uri": "https://localhost:8080/",
          "height": 712
        },
        "id": "VsJ2DQZgZl31",
        "outputId": "7938f4a5-147a-44ea-faf5-a78aa3d38e9d"
      },
      "execution_count": null,
      "outputs": [
        {
          "output_type": "stream",
          "name": "stdout",
          "text": [
            "Number of clusters: 3\n",
            "Cluster labels: [ 0 -1 -1  1  0  0  2  2  2 -1  2  1  1  0  1  2  0  2 -1  0  1  2  2 -1\n",
            " -1  1  0  0  1  0  2  1  2  2  2  0  1  1  1 -1 -1  0  1 -1  1  2 -1 -1\n",
            "  1  2  0  1  1  2 -1  0  1  2 -1  2  2 -1 -1  2 -1  2  0  0  1  0  1  0\n",
            " -1 -1  0  2  1  1  1  2  2 -1  2  0  2  1  2 -1  1  0  1  1  1  1  0 -1\n",
            "  0  0  2 -1  2  1  2  1  1  2 -1 -1  0 -1 -1  1  0 -1  0  1 -1 -1  2  2\n",
            " -1  0 -1  0  0  2  1  1  0  2 -1  0  0  0  1  0 -1  2  2  1  0  2  2  0\n",
            "  2 -1  0  1 -1  0  0  1  2  2  2  2  1 -1  0  1  0 -1  0  0  2 -1  2 -1\n",
            " -1  1  0  2  0 -1 -1  0 -1  2  2  2  2  0  2  1 -1  1  0  2  1  2  0 -1\n",
            "  0  2 -1  0  0  0 -1 -1  2  0  0 -1 -1 -1  2  2  0  1 -1  2  0  2  1  2\n",
            "  1 -1  1  1  0  0  2 -1 -1  2  0  2  1  2  0  0  0  2  1  0 -1  2  1  0\n",
            "  2  2  1 -1  1  0  2  2  0  0  2  0  2 -1  0  0  2  1  1 -1 -1  1 -1  1\n",
            "  0  0  1  1 -1 -1  2  2  0 -1  1  2  1  1  2  1  1  2  1 -1  0  1  2  2\n",
            "  0 -1  2  1  2 -1  0  2  1  1 -1 -1]\n",
            "['r', 'b', 'g', 'y']\n"
          ]
        },
        {
          "output_type": "display_data",
          "data": {
            "text/plain": [
              "<Figure size 640x480 with 1 Axes>"
            ],
            "image/png": "[encoded data removed]"
          },
          "metadata": {}
        }
      ]
    },
    {
      "cell_type": "code",
      "source": [],
      "metadata": {
        "id": "BAYcbCNMbXNF"
      },
      "execution_count": null,
      "outputs": []
    }
  ]
}